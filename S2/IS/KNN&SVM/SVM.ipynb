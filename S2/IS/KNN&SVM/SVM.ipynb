{
  "nbformat": 4,
  "nbformat_minor": 0,
  "metadata": {
    "colab": {
      "provenance": []
    },
    "kernelspec": {
      "name": "python3",
      "display_name": "Python 3"
    },
    "language_info": {
      "name": "python"
    }
  },
  "cells": [
    {
      "cell_type": "markdown",
      "source": [
        "### EDA"
      ],
      "metadata": {
        "id": "E349I_9nSbVk"
      }
    },
    {
      "cell_type": "code",
      "source": [
        "import numpy as np\n",
        "import pandas as pd\n",
        "from sklearn.metrics import accuracy_score\n",
        "from sklearn.svm import SVC\n",
        "from sklearn.model_selection import train_test_split\n",
        "\n",
        "# Load data\n",
        "df  = pd.read_csv(\"loan approval.csv\")\n",
        "\n",
        "# Remove 0 value\n",
        "df = df[df['Loan_Amount'] != 0]\n",
        "df = df[df['Income(dollar)'] != 0]\n",
        "\n",
        "# Convert string to numerical value\n",
        "df['Gender'] = df['Gender'].map({\"Male\": 0, \"Female\": 1})\n",
        "df['Married'] = df['Married'].map({'Yes': 1 ,'No': 0})\n",
        "df['Dependents'] = df['Dependents'].map({\"0\": 0, \"1\": 1, \"2\": 2, \"3+\": 3})\n",
        "df['Education'] = df['Education'].map({'Graduate': 1 ,'Not Graduate': 0})\n",
        "df['Self_Employed'] = df['Self_Employed'].map({'Yes': 1 ,'No': 0})\n",
        "df['Income'] = np.log2(df['Income(dollar)'])\n",
        "df['Coapplicant'] = df['Coapplicant'].map({'Yes': 1 ,'No': 0})\n",
        "df['Loan_Amount'] = np.log2(df['Loan_Amount'])\n",
        "df['Term'] = np.log2(df['Term(month)'])\n",
        "df['Area'] = df['Area'].map({'Urban': 1 ,'Semiurban': 2, \"Rural\": 3})\n",
        "\n",
        "# Drop all row that have missing value\n",
        "df.replace([np.inf, -np.inf], np.nan, inplace=True)\n",
        "df.dropna(inplace=True)\n",
        "\n",
        "# Get result\n",
        "classes = df[\"Status\"].map({\"Y\": 1, \"N\": 0}).to_list()\n",
        "\n",
        "# Drop column\n",
        "df = df.drop('Status', axis=1)\n",
        "df = df.drop('Term(month)', axis=1)\n",
        "df = df.drop('Income(dollar)', axis=1)"
      ],
      "metadata": {
        "id": "vHCYnjU7t5Xw"
      },
      "execution_count": 1,
      "outputs": []
    },
    {
      "cell_type": "markdown",
      "source": [
        "### Create model and print accuracy"
      ],
      "metadata": {
        "id": "yJ0JnxPaSjiG"
      }
    },
    {
      "cell_type": "code",
      "source": [
        "# Split data to train and test datasets\n",
        "x_train, x_test, y_train, y_test = train_test_split(df, classes, test_size=0.2)\n",
        "\n",
        "neighbors = np.arange(1, 9)\n",
        "\n",
        "# Create model\n",
        "svm = SVC(kernel=\"linear\")\n",
        "svm.fit(x_train, y_train)\n",
        "\n",
        "# Predict using test datasets\n",
        "y_pred = svm.predict(x_test)\n",
        "\n",
        "# Get model accuracy\n",
        "accuracy = accuracy_score(y_test, y_pred)\n",
        "\n",
        "print(f\"Accuracy: {int(accuracy * 100)}%\")"
      ],
      "metadata": {
        "colab": {
          "base_uri": "https://localhost:8080/"
        },
        "id": "D0dy_UZn5GJ8",
        "outputId": "87ac8770-5f81-47cd-fd4e-fe96e09973e6"
      },
      "execution_count": 2,
      "outputs": [
        {
          "output_type": "stream",
          "name": "stdout",
          "text": [
            "Accuracy: 81%\n"
          ]
        }
      ]
    }
  ]
}